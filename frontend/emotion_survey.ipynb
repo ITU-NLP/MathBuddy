{
 "cells": [
  {
   "cell_type": "code",
   "execution_count": 38,
   "id": "43876df7",
   "metadata": {},
   "outputs": [],
   "source": [
    "import json\n",
    "import os\n",
    "import pandas as pd\n",
    "from pprint import pprint"
   ]
  },
  {
   "cell_type": "code",
   "execution_count": 76,
   "id": "7b2e44ca",
   "metadata": {},
   "outputs": [
    {
     "name": "stdout",
     "output_type": "stream",
     "text": [
      "2025-06-24T09-19-27-409Z_run.json\n"
     ]
    }
   ],
   "source": [
    "__path__ = \"memory\"\n",
    "latest_file = sorted(os.listdir(__path__))[-1]\n",
    "print(latest_file)\n",
    "with open(os.path.join(__path__, latest_file), 'r') as f:\n",
    "        data = json.load(f)"
   ]
  },
  {
   "cell_type": "code",
   "execution_count": 77,
   "id": "02d67526",
   "metadata": {},
   "outputs": [
    {
     "data": {
      "text/plain": [
       "{'b94c8c37-0e44-4017-a3ee-c5a4d0288c9f': {'userId': 104,\n",
       "  'condition': 1,\n",
       "  'usesEmotion': False,\n",
       "  'sessionId': 'b94c8c37-0e44-4017-a3ee-c5a4d0288c9f',\n",
       "  'createdAt': '2025-06-24T09:20:09.120Z',\n",
       "  'lastActive': '2025-06-24T09:23:26.905Z'},\n",
       " '1d2f9eec-bbc4-4205-8923-2da155924ae9': {'userId': 104,\n",
       "  'condition': 0,\n",
       "  'usesEmotion': False,\n",
       "  'sessionId': '1d2f9eec-bbc4-4205-8923-2da155924ae9',\n",
       "  'createdAt': '2025-06-24T09:23:50.922Z',\n",
       "  'lastActive': '2025-06-24T09:25:42.924Z'}}"
      ]
     },
     "execution_count": 77,
     "metadata": {},
     "output_type": "execute_result"
    }
   ],
   "source": [
    "data[\"sessions\"]"
   ]
  },
  {
   "cell_type": "code",
   "execution_count": 85,
   "id": "32f9065e",
   "metadata": {},
   "outputs": [
    {
     "name": "stdout",
     "output_type": "stream",
     "text": [
      "Session of interest: b94c8c37-0e44-4017-a3ee-c5a4d0288c9f\n"
     ]
    }
   ],
   "source": [
    "session_of_interest = \"\"\n",
    "for key, value in data[\"sessions\"].items():\n",
    "    if value[\"condition\"] == 1: session_of_interest = key #1 is with  emotion\n",
    "\n",
    "print(f\"Session of interest: {session_of_interest}\")\n",
    "\n",
    "def get_filtered_data(data, session_of_interest):\n",
    "    for_df = {\"sessionId\": [], \"role\": [], \"message\": [], \"positive\": [], \"negative\": [], \"neutral\": []}\n",
    "    for key, value in data[\"messages\"].items():\n",
    "        if value[\"sessionId\"] == session_of_interest:\n",
    "            for_df[\"sessionId\"].append(value[\"sessionId\"])\n",
    "            for_df[\"role\"].append(value[\"role\"])\n",
    "            for_df[\"message\"].append(value[\"content\"])\n",
    "            emo = value[\"mergedSentiment\"]\n",
    "            if emo == \"positive\":\n",
    "                for_df[\"positive\"].append(1)\n",
    "                for_df[\"negative\"].append(0)\n",
    "                for_df[\"neutral\"].append(0)\n",
    "            elif emo == \"negative\":\n",
    "                for_df[\"positive\"].append(0)\n",
    "                for_df[\"negative\"].append(1)\n",
    "                for_df[\"neutral\"].append(0)\n",
    "            elif emo == \"neutral\":  \n",
    "                for_df[\"positive\"].append(0)\n",
    "                for_df[\"negative\"].append(0)\n",
    "                for_df[\"neutral\"].append(1)\n",
    "            else:\n",
    "                #print(f\"Unknown sentiment: {emo}\")\n",
    "                for_df[\"positive\"].append(0)\n",
    "                for_df[\"negative\"].append(0)\n",
    "                for_df[\"neutral\"].append(0)\n",
    "\n",
    "    df = pd.DataFrame(for_df)\n",
    "    df[\"Important Tutor Turn\"] = [\"No\"]*len(df)\n",
    "\n",
    "    return pd.DataFrame(df)"
   ]
  },
  {
   "cell_type": "code",
   "execution_count": 91,
   "id": "34a82bd8",
   "metadata": {},
   "outputs": [
    {
     "name": "stdout",
     "output_type": "stream",
     "text": [
      "Open the file:  emo_surveys/2025-06-24T09-19-27-409Z_run.xlsx\n"
     ]
    },
    {
     "data": {
      "text/html": [
       "<div>\n",
       "<style scoped>\n",
       "    .dataframe tbody tr th:only-of-type {\n",
       "        vertical-align: middle;\n",
       "    }\n",
       "\n",
       "    .dataframe tbody tr th {\n",
       "        vertical-align: top;\n",
       "    }\n",
       "\n",
       "    .dataframe thead th {\n",
       "        text-align: right;\n",
       "    }\n",
       "</style>\n",
       "<table border=\"1\" class=\"dataframe\">\n",
       "  <thead>\n",
       "    <tr style=\"text-align: right;\">\n",
       "      <th></th>\n",
       "      <th>sessionId</th>\n",
       "      <th>role</th>\n",
       "      <th>message</th>\n",
       "      <th>positive</th>\n",
       "      <th>negative</th>\n",
       "      <th>neutral</th>\n",
       "      <th>Important Tutor Turn</th>\n",
       "    </tr>\n",
       "  </thead>\n",
       "  <tbody>\n",
       "    <tr>\n",
       "      <th>0</th>\n",
       "      <td>b94c8c37-0e44-4017-a3ee-c5a4d0288c9f</td>\n",
       "      <td>tutor</td>\n",
       "      <td>Hi there! 👋 I am your MathBuddy tutor. Let's w...</td>\n",
       "      <td>0</td>\n",
       "      <td>0</td>\n",
       "      <td>0</td>\n",
       "      <td>No</td>\n",
       "    </tr>\n",
       "    <tr>\n",
       "      <th>1</th>\n",
       "      <td>b94c8c37-0e44-4017-a3ee-c5a4d0288c9f</td>\n",
       "      <td>student</td>\n",
       "      <td>Okay, total number of muffins is 10. So 3/10+3...</td>\n",
       "      <td>0</td>\n",
       "      <td>1</td>\n",
       "      <td>0</td>\n",
       "      <td>No</td>\n",
       "    </tr>\n",
       "    <tr>\n",
       "      <th>2</th>\n",
       "      <td>b94c8c37-0e44-4017-a3ee-c5a4d0288c9f</td>\n",
       "      <td>tutor</td>\n",
       "      <td>I see you've made a great start by figuring ou...</td>\n",
       "      <td>0</td>\n",
       "      <td>0</td>\n",
       "      <td>0</td>\n",
       "      <td>No</td>\n",
       "    </tr>\n",
       "    <tr>\n",
       "      <th>3</th>\n",
       "      <td>b94c8c37-0e44-4017-a3ee-c5a4d0288c9f</td>\n",
       "      <td>student</td>\n",
       "      <td>So, 2 ways of picking from 10 muffins and I ca...</td>\n",
       "      <td>0</td>\n",
       "      <td>1</td>\n",
       "      <td>0</td>\n",
       "      <td>No</td>\n",
       "    </tr>\n",
       "    <tr>\n",
       "      <th>4</th>\n",
       "      <td>b94c8c37-0e44-4017-a3ee-c5a4d0288c9f</td>\n",
       "      <td>tutor</td>\n",
       "      <td>You're definitely on the right track thinking ...</td>\n",
       "      <td>0</td>\n",
       "      <td>0</td>\n",
       "      <td>0</td>\n",
       "      <td>No</td>\n",
       "    </tr>\n",
       "    <tr>\n",
       "      <th>5</th>\n",
       "      <td>b94c8c37-0e44-4017-a3ee-c5a4d0288c9f</td>\n",
       "      <td>student</td>\n",
       "      <td>Aaaaaah, I don't know.</td>\n",
       "      <td>0</td>\n",
       "      <td>1</td>\n",
       "      <td>0</td>\n",
       "      <td>No</td>\n",
       "    </tr>\n",
       "    <tr>\n",
       "      <th>6</th>\n",
       "      <td>b94c8c37-0e44-4017-a3ee-c5a4d0288c9f</td>\n",
       "      <td>tutor</td>\n",
       "      <td>I hear your frustration, and it's completely o...</td>\n",
       "      <td>0</td>\n",
       "      <td>0</td>\n",
       "      <td>0</td>\n",
       "      <td>No</td>\n",
       "    </tr>\n",
       "  </tbody>\n",
       "</table>\n",
       "</div>"
      ],
      "text/plain": [
       "                              sessionId     role  \\\n",
       "0  b94c8c37-0e44-4017-a3ee-c5a4d0288c9f    tutor   \n",
       "1  b94c8c37-0e44-4017-a3ee-c5a4d0288c9f  student   \n",
       "2  b94c8c37-0e44-4017-a3ee-c5a4d0288c9f    tutor   \n",
       "3  b94c8c37-0e44-4017-a3ee-c5a4d0288c9f  student   \n",
       "4  b94c8c37-0e44-4017-a3ee-c5a4d0288c9f    tutor   \n",
       "5  b94c8c37-0e44-4017-a3ee-c5a4d0288c9f  student   \n",
       "6  b94c8c37-0e44-4017-a3ee-c5a4d0288c9f    tutor   \n",
       "\n",
       "                                             message  positive  negative  \\\n",
       "0  Hi there! 👋 I am your MathBuddy tutor. Let's w...         0         0   \n",
       "1  Okay, total number of muffins is 10. So 3/10+3...         0         1   \n",
       "2  I see you've made a great start by figuring ou...         0         0   \n",
       "3  So, 2 ways of picking from 10 muffins and I ca...         0         1   \n",
       "4  You're definitely on the right track thinking ...         0         0   \n",
       "5                             Aaaaaah, I don't know.         0         1   \n",
       "6  I hear your frustration, and it's completely o...         0         0   \n",
       "\n",
       "   neutral Important Tutor Turn  \n",
       "0        0                   No  \n",
       "1        0                   No  \n",
       "2        0                   No  \n",
       "3        0                   No  \n",
       "4        0                   No  \n",
       "5        0                   No  \n",
       "6        0                   No  "
      ]
     },
     "execution_count": 91,
     "metadata": {},
     "output_type": "execute_result"
    }
   ],
   "source": [
    "df = get_filtered_data(data, session_of_interest)\n",
    "dest_dir = \"emo_surveys/\"\n",
    "if not os.path.exists(dest_dir):\n",
    "    os.mkdir(dest_dir)\n",
    "df.to_excel(os.path.join(dest_dir, latest_file.split(\".json\")[0]+\".xlsx\"), index=False)\n",
    "print(\"Open the file: \", os.path.join(dest_dir, latest_file.split(\".json\")[0]+\".xlsx\"))\n",
    "df"
   ]
  }
 ],
 "metadata": {
  "kernelspec": {
   "display_name": "llmtutor",
   "language": "python",
   "name": "python3"
  },
  "language_info": {
   "codemirror_mode": {
    "name": "ipython",
    "version": 3
   },
   "file_extension": ".py",
   "mimetype": "text/x-python",
   "name": "python",
   "nbconvert_exporter": "python",
   "pygments_lexer": "ipython3",
   "version": "3.12.9"
  }
 },
 "nbformat": 4,
 "nbformat_minor": 5
}
